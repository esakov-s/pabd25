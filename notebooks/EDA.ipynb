{
 "cells": [
  {
   "cell_type": "code",
   "execution_count": 1,
   "id": "c10520b6-d44f-486e-8648-cbd8da9af76e",
   "metadata": {},
   "outputs": [],
   "source": [
    "import pandas as pd\n",
    "import glob \n",
    "import matplotlib.pyplot as plt\n",
    "import numpy as np\n",
    "  \n",
    "raw_data_path = '../data/raw'\n",
    "file_list = glob.glob(raw_data_path + \"/*.csv\") "
   ]
  },
  {
   "cell_type": "code",
   "execution_count": 2,
   "id": "2bce9e9e-a8b6-45df-9d7a-afa00d062513",
   "metadata": {},
   "outputs": [
    {
     "data": {
      "text/plain": [
       "['../data/raw\\\\1_2025-06-22_18-24.csv', '../data/raw\\\\1_2025-06-22_18-25.csv']"
      ]
     },
     "execution_count": 2,
     "metadata": {},
     "output_type": "execute_result"
    }
   ],
   "source": [
    "file_list"
   ]
  },
  {
   "cell_type": "code",
   "execution_count": 3,
   "id": "f87ea301-113c-4cd6-835d-cfae21cf830f",
   "metadata": {},
   "outputs": [],
   "source": [
    "main_dataframe = pd.read_csv(file_list[0])\n",
    "for i in range(1, len(file_list)): \n",
    "    data = pd.read_csv(file_list[i]) \n",
    "    df = pd.DataFrame(data) \n",
    "    main_dataframe = pd.concat([main_dataframe, df], axis=0) "
   ]
  },
  {
   "cell_type": "code",
   "execution_count": 5,
   "id": "25b65003-e3e3-45dc-8510-10d5031db7eb",
   "metadata": {},
   "outputs": [
    {
     "data": {
      "text/html": [
       "<div>\n",
       "<style scoped>\n",
       "    .dataframe tbody tr th:only-of-type {\n",
       "        vertical-align: middle;\n",
       "    }\n",
       "\n",
       "    .dataframe tbody tr th {\n",
       "        vertical-align: top;\n",
       "    }\n",
       "\n",
       "    .dataframe thead th {\n",
       "        text-align: right;\n",
       "    }\n",
       "</style>\n",
       "<table border=\"1\" class=\"dataframe\">\n",
       "  <thead>\n",
       "    <tr style=\"text-align: right;\">\n",
       "      <th></th>\n",
       "      <th>author</th>\n",
       "      <th>author_type</th>\n",
       "      <th>url</th>\n",
       "      <th>location</th>\n",
       "      <th>deal_type</th>\n",
       "      <th>accommodation_type</th>\n",
       "      <th>floor</th>\n",
       "      <th>floors_count</th>\n",
       "      <th>rooms_count</th>\n",
       "      <th>total_meters</th>\n",
       "      <th>price_per_month</th>\n",
       "      <th>commissions</th>\n",
       "      <th>price</th>\n",
       "      <th>district</th>\n",
       "      <th>street</th>\n",
       "      <th>house_number</th>\n",
       "      <th>underground</th>\n",
       "      <th>residential_complex</th>\n",
       "    </tr>\n",
       "  </thead>\n",
       "  <tbody>\n",
       "    <tr>\n",
       "      <th>0</th>\n",
       "      <td>CENTURY 21 Столичная недвижимость</td>\n",
       "      <td>real_estate_agent</td>\n",
       "      <td>https://www.cian.ru/sale/flat/318935572/</td>\n",
       "      <td>Москва</td>\n",
       "      <td>sale</td>\n",
       "      <td>flat</td>\n",
       "      <td>7</td>\n",
       "      <td>23</td>\n",
       "      <td>1</td>\n",
       "      <td>37.5</td>\n",
       "      <td>-1</td>\n",
       "      <td>0</td>\n",
       "      <td>25500000</td>\n",
       "      <td>Хорошево-Мневники</td>\n",
       "      <td>Шелепихинская набережная</td>\n",
       "      <td>40к2</td>\n",
       "      <td>Шелепиха</td>\n",
       "      <td>Sydney City</td>\n",
       "    </tr>\n",
       "    <tr>\n",
       "      <th>1</th>\n",
       "      <td>Павел Пряжников</td>\n",
       "      <td>realtor</td>\n",
       "      <td>https://www.cian.ru/sale/flat/318485986/</td>\n",
       "      <td>Москва</td>\n",
       "      <td>sale</td>\n",
       "      <td>flat</td>\n",
       "      <td>6</td>\n",
       "      <td>17</td>\n",
       "      <td>1</td>\n",
       "      <td>39.5</td>\n",
       "      <td>-1</td>\n",
       "      <td>0</td>\n",
       "      <td>17500000</td>\n",
       "      <td>Черемушки</td>\n",
       "      <td>Цюрупы</td>\n",
       "      <td>18К1</td>\n",
       "      <td>Новые Черёмушки</td>\n",
       "      <td>NaN</td>\n",
       "    </tr>\n",
       "    <tr>\n",
       "      <th>2</th>\n",
       "      <td>ID 47523409</td>\n",
       "      <td>homeowner</td>\n",
       "      <td>https://www.cian.ru/sale/flat/318873074/</td>\n",
       "      <td>Москва</td>\n",
       "      <td>sale</td>\n",
       "      <td>flat</td>\n",
       "      <td>17</td>\n",
       "      <td>17</td>\n",
       "      <td>1</td>\n",
       "      <td>38.4</td>\n",
       "      <td>-1</td>\n",
       "      <td>0</td>\n",
       "      <td>10500000</td>\n",
       "      <td>Марьино</td>\n",
       "      <td>Новомарьинская</td>\n",
       "      <td>13</td>\n",
       "      <td>Братиславская</td>\n",
       "      <td>NaN</td>\n",
       "    </tr>\n",
       "    <tr>\n",
       "      <th>3</th>\n",
       "      <td>White and Broughton</td>\n",
       "      <td>real_estate_agent</td>\n",
       "      <td>https://www.cian.ru/sale/flat/313640113/</td>\n",
       "      <td>Москва</td>\n",
       "      <td>sale</td>\n",
       "      <td>flat</td>\n",
       "      <td>6</td>\n",
       "      <td>41</td>\n",
       "      <td>1</td>\n",
       "      <td>40.1</td>\n",
       "      <td>-1</td>\n",
       "      <td>0</td>\n",
       "      <td>34900000</td>\n",
       "      <td>Хорошевский</td>\n",
       "      <td>Ленинградский проспект</td>\n",
       "      <td>37/5</td>\n",
       "      <td>Аэропорт</td>\n",
       "      <td>Прайм Парк</td>\n",
       "    </tr>\n",
       "    <tr>\n",
       "      <th>4</th>\n",
       "      <td>ID 117472686</td>\n",
       "      <td>homeowner</td>\n",
       "      <td>https://www.cian.ru/sale/flat/316499489/</td>\n",
       "      <td>Москва</td>\n",
       "      <td>sale</td>\n",
       "      <td>flat</td>\n",
       "      <td>8</td>\n",
       "      <td>9</td>\n",
       "      <td>1</td>\n",
       "      <td>35.0</td>\n",
       "      <td>-1</td>\n",
       "      <td>0</td>\n",
       "      <td>23800000</td>\n",
       "      <td>Хамовники</td>\n",
       "      <td>Ростовская набережная</td>\n",
       "      <td>3</td>\n",
       "      <td>Смоленская</td>\n",
       "      <td>NaN</td>\n",
       "    </tr>\n",
       "  </tbody>\n",
       "</table>\n",
       "</div>"
      ],
      "text/plain": [
       "                              author        author_type  \\\n",
       "0  CENTURY 21 Столичная недвижимость  real_estate_agent   \n",
       "1                    Павел Пряжников            realtor   \n",
       "2                        ID 47523409          homeowner   \n",
       "3                White and Broughton  real_estate_agent   \n",
       "4                       ID 117472686          homeowner   \n",
       "\n",
       "                                        url location deal_type  \\\n",
       "0  https://www.cian.ru/sale/flat/318935572/   Москва      sale   \n",
       "1  https://www.cian.ru/sale/flat/318485986/   Москва      sale   \n",
       "2  https://www.cian.ru/sale/flat/318873074/   Москва      sale   \n",
       "3  https://www.cian.ru/sale/flat/313640113/   Москва      sale   \n",
       "4  https://www.cian.ru/sale/flat/316499489/   Москва      sale   \n",
       "\n",
       "  accommodation_type  floor  floors_count  rooms_count  total_meters  \\\n",
       "0               flat      7            23            1          37.5   \n",
       "1               flat      6            17            1          39.5   \n",
       "2               flat     17            17            1          38.4   \n",
       "3               flat      6            41            1          40.1   \n",
       "4               flat      8             9            1          35.0   \n",
       "\n",
       "   price_per_month  commissions     price           district  \\\n",
       "0               -1            0  25500000  Хорошево-Мневники   \n",
       "1               -1            0  17500000          Черемушки   \n",
       "2               -1            0  10500000            Марьино   \n",
       "3               -1            0  34900000        Хорошевский   \n",
       "4               -1            0  23800000          Хамовники   \n",
       "\n",
       "                     street house_number      underground residential_complex  \n",
       "0  Шелепихинская набережная         40к2         Шелепиха         Sydney City  \n",
       "1                    Цюрупы         18К1  Новые Черёмушки                 NaN  \n",
       "2           Новомарьинская            13    Братиславская                 NaN  \n",
       "3    Ленинградский проспект         37/5         Аэропорт          Прайм Парк  \n",
       "4     Ростовская набережная            3       Смоленская                 NaN  "
      ]
     },
     "execution_count": 5,
     "metadata": {},
     "output_type": "execute_result"
    }
   ],
   "source": [
    "main_dataframe.head(5)"
   ]
  },
  {
   "cell_type": "code",
   "execution_count": 6,
   "id": "8b8fa361-6238-4e8f-99b3-d06336f5a02a",
   "metadata": {},
   "outputs": [],
   "source": [
    "main_dataframe['url_id'] = main_dataframe['url'].map(lambda x: x.split('/')[-2])\n",
    "new_dataframe = main_dataframe[['url_id', 'total_meters', 'price']].set_index('url_id')"
   ]
  },
  {
   "cell_type": "code",
   "execution_count": 7,
   "id": "0252d758-f3f1-41ed-b944-af01a75e069c",
   "metadata": {
    "scrolled": true
   },
   "outputs": [
    {
     "data": {
      "text/plain": [
       "<Axes: >"
      ]
     },
     "execution_count": 7,
     "metadata": {},
     "output_type": "execute_result"
    },
    {
     "data": {
      "image/png": "[encoded data removed]",
      "text/plain": [
       "<Figure size 640x480 with 1 Axes>"
      ]
     },
     "metadata": {},
     "output_type": "display_data"
    }
   ],
   "source": [
    "new_dataframe['price'].hist()"
   ]
  },
  {
   "cell_type": "code",
   "execution_count": 8,
   "id": "d84685b1-32f3-4c5c-8541-aa171996d876",
   "metadata": {},
   "outputs": [],
   "source": [
    "new_df = new_dataframe[new_dataframe['price'] < 100_000_000]\n",
    "new_df = new_df[new_df['total_meters'] < 100]"
   ]
  },
  {
   "cell_type": "code",
   "execution_count": 9,
   "id": "3cde4678-f0d4-445a-80cc-974d6f696941",
   "metadata": {},
   "outputs": [
    {
     "data": {
      "text/plain": [
       "[<matplotlib.lines.Line2D at 0x21b51bf2310>]"
      ]
     },
     "execution_count": 9,
     "metadata": {},
     "output_type": "execute_result"
    },
    {
     "data": {
      "image/png": "[encoded data removed]",
      "text/plain": [
       "<Figure size 640x480 with 1 Axes>"
      ]
     },
     "metadata": {},
     "output_type": "display_data"
    }
   ],
   "source": [
    "x = new_df['total_meters']\n",
    "y = new_df['price']\n",
    "\n",
    "plt.plot(x, y, 'o')\n",
    "\n",
    "#obtain m (slope) and b(intercept) of linear regression line\n",
    "m, b = np.polyfit(x, y, 1)\n",
    "\n",
    "#add linear regression line to scatterplot \n",
    "plt.plot(x, m*x+b)"
   ]
  },
  {
   "cell_type": "code",
   "execution_count": 10,
   "id": "59723cdf-8c88-4e3e-9399-0fc233a72db3",
   "metadata": {},
   "outputs": [],
   "source": [
    "new_df.to_csv('../data/processed/train.csv', index=False)"
   ]
  },
  {
   "cell_type": "code",
   "execution_count": null,
   "id": "5f570779",
   "metadata": {},
   "outputs": [],
   "source": []
  }
 ],
 "metadata": {
  "kernelspec": {
   "display_name": ".venv",
   "language": "python",
   "name": "python3"
  },
  "language_info": {
   "codemirror_mode": {
    "name": "ipython",
    "version": 3
   },
   "file_extension": ".py",
   "mimetype": "text/x-python",
   "name": "python",
   "nbconvert_exporter": "python",
   "pygments_lexer": "ipython3",
   "version": "3.9.13"
  }
 },
 "nbformat": 4,
 "nbformat_minor": 5
}
